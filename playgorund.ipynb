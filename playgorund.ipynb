{
 "cells": [
  {
   "cell_type": "code",
   "execution_count": 21,
   "id": "706db75d-d6cf-4c9e-8787-4b9d7942e426",
   "metadata": {
    "pycharm": {
     "name": "#%%\n"
    }
   },
   "outputs": [],
   "source": [
    "import sqlalchemy as db\n",
    "import matplotlib.pyplot as plt\n",
    "import numpy as np"
   ]
  },
  {
   "cell_type": "code",
   "execution_count": 22,
   "id": "85b07954-2b74-4726-8fd3-7fc1b0e05764",
   "metadata": {
    "pycharm": {
     "name": "#%%\n"
    }
   },
   "outputs": [],
   "source": [
    "class Section:\n",
    "    def __init__(self, term, year, campus, college, dept, subject, course, section, course_title, instructor_name,\n",
    "                 instructor_group, course_type, course_level, online, enroll, num_resp, resp_rate, hours_per_week,\n",
    "                 interest, challenge, learned, course_rating, effect, availability, respect, instructor, course_err,\n",
    "                 instructor_err):\n",
    "        self.term = term  # fall, spring, summer\n",
    "        self.year = int(year)  # 4-digit year (e.g., 2019)\n",
    "        self.campus = campus  # BD = Boulder, CE = Continuing Education\n",
    "        self.college = college  # 4-letter college code (e.g., BUSN = Business)\n",
    "        # abbreviated department code (e.g., MB = music)\n",
    "        self.department = dept\n",
    "        # 4-letter subject code (e.g., ACCT = Accounting)\n",
    "        self.subject = subject\n",
    "        self.course = course  # 4-digit course number\n",
    "        self.section = section  # section number (e.g., 105, 101R)\n",
    "        self.courseTitle = course_title  # descriptive course title\n",
    "        self.instructorName = instructor_name  # instructor name\n",
    "\n",
    "        self.instructorGroup = instructor_group\n",
    "        # TTT = Tenured or Tenure-Track, INST = Instructor or Senior Instructor, TA = Teaching Assistant, OTH = Other\n",
    "\n",
    "        self.courseType = course_type  # e.g., LEC = Lecture\n",
    "        # Lower (1xxx-2xxx), Upper (3xxx,4xxx), or Graduate (5xxx+)\n",
    "        self.courseLevel = course_level\n",
    "        self.online = online  # Y = FCQs were administered online\n",
    "        self.enrollment = int(enroll)  # number of students enrolled in the course\n",
    "        self.responses = int(num_resp)  # number of students who completed FCP\n",
    "        self.responseRate = resp_rate  # percentage of students who completed FCQ\n",
    "\n",
    "        self.hoursPerWeek = float(hours_per_week)\n",
    "        # 1.0-1.9 = 0-3 hours per week\n",
    "        # 2.0-2.9 = 4-6 hours per week\n",
    "        # 3.0-3.9 = 7-9 hours per week\n",
    "        # 4.0-4.9 = 10-12 hours per week\n",
    "        # 5.0-5.9 = 13-15 hours per week\n",
    "        # 6.0 = 16+ hours per week\n",
    "\n",
    "        self.interest = float(interest)  # Scale: 1 = lowest, 6 = highest\n",
    "        self.challenge = float(challenge)  # Scale: 1 = lowest, 6 = highest\n",
    "        self.learned = float(learned)  # Scale: 1 = lowest, 6 = highest\n",
    "        self.courseRating = float(course_rating)  # Scale: 1 = lowest, 6 = highest\n",
    "        self.effect = float(effect)  # Scale: 1 = lowest, 6 = highest\n",
    "        self.instructorAvailability = float(availability)  # Scale: 1 = lowest, 6 = highest\n",
    "        self.instructorRespect = float(respect)  # Scale: 1 = lowest, 6 = highest\n",
    "        self.instructorRating = float(instructor)  # Scale: 1 = lowest, 6 = highest\n",
    "        self.stdCourseRating = float(course_err)  # standard deviation of course rating\n",
    "        # standard deviation of instructor rating\n",
    "        self.stdInstructorRating = float(instructor_err)"
   ]
  },
  {
   "cell_type": "code",
   "execution_count": 23,
   "id": "0f9a3fc9-5924-45ae-a64b-c89ead24767f",
   "metadata": {
    "pycharm": {
     "name": "#%%\n"
    }
   },
   "outputs": [],
   "source": [
    "engine = db.create_engine('sqlite:///website/fcq.db')\n",
    "connection = engine.connect()\n",
    "metadata = db.MetaData()\n",
    "fcq = db.Table('fcq', metadata, autoload=True, autoload_with=engine)"
   ]
  },
  {
   "cell_type": "code",
   "execution_count": 31,
   "id": "2eaecb64-35e6-49f0-8829-a41147da8356",
   "metadata": {
    "pycharm": {
     "name": "#%%\n"
    }
   },
   "outputs": [],
   "source": [
    "query = db.select([fcq])"
   ]
  },
  {
   "cell_type": "code",
   "execution_count": 32,
   "id": "b7860806-6fe6-41b7-9e25-6bd625326e9a",
   "metadata": {
    "pycharm": {
     "name": "#%%\n"
    }
   },
   "outputs": [],
   "source": [
    "result_proxy = connection.execute(query)\n",
    "result_set = result_proxy.fetchall()"
   ]
  },
  {
   "cell_type": "code",
   "execution_count": 33,
   "id": "1adb15bf-4c2e-477e-baff-28c33b29529a",
   "metadata": {
    "pycharm": {
     "name": "#%%\n"
    }
   },
   "outputs": [],
   "source": [
    "sections = []\n",
    "for row in result_set:\n",
    "    try:\n",
    "        sec = Section(row.Term, row.Year, row.Campus, row.College, row.Dept, row.Sbjct, row.Crse, row.Sect, row.CrseTitle, row.InstructorName, row.InstrGrp, row.CrseType, row.CrseLvl, row.Onlin, row.Enroll, row.NumResp, row.RespRate, row.HrsPerWk, row.Interest, row.Challenge, row.Learned, row.Course, row.Effect, row.Avail, row.Respect, row.Instr, row.SDCrse, row.SDInstr)\n",
    "        sections.append(sec)\n",
    "    except:\n",
    "        continue"
   ]
  },
  {
   "cell_type": "code",
   "execution_count": 47,
   "id": "3a627d46-1113-4cfb-ac23-ecfc6b043c99",
   "metadata": {
    "pycharm": {
     "name": "#%%\n"
    }
   },
   "outputs": [
    {
     "data": {
      "text/plain": [
       "(array([ 6478.,   890., 74884.,  1457., 12773.,  2660.,  4141.,  3931.,\n",
       "         2062.,  1350.]),\n",
       " array([ 0.,  1.,  2.,  3.,  4.,  5.,  6.,  7.,  8.,  9., 10.]),\n",
       " <BarContainer object of 10 artists>)"
      ]
     },
     "execution_count": 47,
     "metadata": {},
     "output_type": "execute_result"
    },
    {
     "data": {
      "image/png": "[encoded data removed]",
      "text/plain": [
       "<Figure size 432x288 with 1 Axes>"
      ]
     },
     "metadata": {
      "needs_background": "light"
     },
     "output_type": "display_data"
    }
   ],
   "source": [
    "plt.hist([s.college for s in sections], rwidth = 0.9)"
   ]
  },
  {
   "cell_type": "code",
   "execution_count": 44,
   "id": "1d0a9f08-7fa3-421f-a861-669f576e353d",
   "metadata": {
    "pycharm": {
     "name": "#%%\n"
    }
   },
   "outputs": [],
   "source": [
    "import sys"
   ]
  },
  {
   "cell_type": "code",
   "execution_count": 64,
   "id": "2f60f687-4af5-4505-ae46-89968c7608b3",
   "metadata": {
    "pycharm": {
     "name": "#%%\n"
    }
   },
   "outputs": [],
   "source": [
    "query = db.select([fcq]).where(fcq.c.College == \"ENGR\")\n",
    "result_proxy = connection.execute(query)\n",
    "engr = result_proxy.fetchall()\n",
    "engr_sections = []\n",
    "for row in engr:\n",
    "    try:\n",
    "        sec = Section(row.Term, row.Year, row.Campus, row.College, row.Dept, row.Sbjct, row.Crse, row.Sect, row.CrseTitle, row.InstructorName, row.InstrGrp, row.CrseType, row.CrseLvl, row.Onlin, row.Enroll, row.NumResp, row.RespRate, row.HrsPerWk, row.Interest, row.Challenge, row.Learned, row.Course, row.Effect, row.Avail, row.Respect, row.Instr, row.SDCrse, row.SDInstr)\n",
    "        engr_sections.append(sec)\n",
    "    except:\n",
    "        continue"
   ]
  },
  {
   "cell_type": "code",
   "execution_count": 65,
   "id": "7461e330-10ef-47d0-9bfe-8e5e57e75d6d",
   "metadata": {
    "pycharm": {
     "name": "#%%\n"
    }
   },
   "outputs": [],
   "source": [
    "query = db.select([fcq]).where(fcq.c.College == \"ENGR\")\n",
    "result_proxy = connection.execute(query)\n",
    "busn = result_proxy.fetchall()\n",
    "busn_sections = []\n",
    "for row in busn:\n",
    "    try:\n",
    "        sec = Section(row.Term, row.Year, row.Campus, row.College, row.Dept, row.Sbjct, row.Crse, row.Sect, row.CrseTitle, row.InstructorName, row.InstrGrp, row.CrseType, row.CrseLvl, row.Onlin, row.Enroll, row.NumResp, row.RespRate, row.HrsPerWk, row.Interest, row.Challenge, row.Learned, row.Course, row.Effect, row.Avail, row.Respect, row.Instr, row.SDCrse, row.SDInstr)\n",
    "        busn_sections.append(sec)\n",
    "    except:\n",
    "        continue"
   ]
  },
  {
   "cell_type": "code",
   "execution_count": 66,
   "id": "8084b972-4829-4b58-b283-2b69ec3dacf4",
   "metadata": {
    "pycharm": {
     "name": "#%%\n"
    }
   },
   "outputs": [],
   "source": [
    "query = db.select([fcq]).where(fcq.c.College == \"ARSC\")\n",
    "result_proxy = connection.execute(query)\n",
    "arsc = result_proxy.fetchall()\n",
    "arsc_sections = []\n",
    "for row in arsc:\n",
    "    try:\n",
    "        sec = Section(row.Term, row.Year, row.Campus, row.College, row.Dept, row.Sbjct, row.Crse, row.Sect, row.CrseTitle, row.InstructorName, row.InstrGrp, row.CrseType, row.CrseLvl, row.Onlin, row.Enroll, row.NumResp, row.RespRate, row.HrsPerWk, row.Interest, row.Challenge, row.Learned, row.Course, row.Effect, row.Avail, row.Respect, row.Instr, row.SDCrse, row.SDInstr)\n",
    "        arsc_sections.append(sec)\n",
    "    except:\n",
    "        continue"
   ]
  },
  {
   "cell_type": "code",
   "execution_count": 80,
   "id": "72b8eaba-24a0-4eff-ae2d-5b86dde9f5c7",
   "metadata": {
    "pycharm": {
     "name": "#%%\n"
    }
   },
   "outputs": [
    {
     "data": {
      "image/png": "[encoded data removed]",
      "text/plain": [
       "<Figure size 1000x1000 with 3 Axes>"
      ]
     },
     "metadata": {},
     "output_type": "display_data"
    }
   ],
   "source": [
    "plt.style.use('default')\n",
    "fig, ax = plt.subplots(3, 1, figsize=(10, 10))\n",
    "ax[0].hist([s.courseRating for s in engr_sections], rwidth = 0.9, alpha = 0.5, density=True, label=\"Engineering\")\n",
    "ax[0].legend()\n",
    "ax[1].hist([s.courseRating for s in arsc_sections], rwidth = 0.9, alpha = 0.5, density=True, label=\"Arts and Sciences\")\n",
    "ax[1].legend()\n",
    "ax[2].hist([s.courseRating for s in busn_sections], rwidth = 0.9, alpha = 0.5, density=True, label=\"Business\")\n",
    "ax[2].legend()\n",
    "\n",
    "plt.xlabel(\"Hours Spent on Class Per Week (1 = 0 hrs ... 6 = 16+ hrs)\")\n",
    "plt.tight_layout()\n",
    "plt.savefig(\"hours.png\", dpi = 300)"
   ]
  },
  {
   "cell_type": "code",
   "execution_count": null,
   "id": "bab42f5a-25f2-4af5-bc9d-6e959b685d76",
   "metadata": {
    "pycharm": {
     "name": "#%%\n"
    }
   },
   "outputs": [],
   "source": []
  }
 ],
 "metadata": {
  "kernelspec": {
   "display_name": "Python 3 (ipykernel)",
   "language": "python",
   "name": "python3"
  },
  "language_info": {
   "codemirror_mode": {
    "name": "ipython",
    "version": 3
   },
   "file_extension": ".py",
   "mimetype": "text/x-python",
   "name": "python",
   "nbconvert_exporter": "python",
   "pygments_lexer": "ipython3",
   "version": "3.9.10"
  }
 },
 "nbformat": 4,
 "nbformat_minor": 5
}